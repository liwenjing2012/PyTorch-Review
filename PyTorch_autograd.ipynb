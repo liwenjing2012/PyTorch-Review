{
 "cells": [
  {
   "cell_type": "code",
   "execution_count": 4,
   "id": "ff9b3578-2800-4da1-8f0e-062c4a8fa369",
   "metadata": {},
   "outputs": [
    {
     "name": "stdout",
     "output_type": "stream",
     "text": [
      "Looking in indexes: https://download.pytorch.org/whl/cu117\n",
      "Requirement already satisfied: torch in c:\\users\\liwen\\anaconda3\\lib\\site-packages (2.0.1+cu117)\n",
      "Requirement already satisfied: torchvision in c:\\users\\liwen\\anaconda3\\lib\\site-packages (0.15.2+cu117)\n",
      "Requirement already satisfied: torchaudio in c:\\users\\liwen\\anaconda3\\lib\\site-packages (2.0.2+cu117)\n",
      "Requirement already satisfied: networkx in c:\\users\\liwen\\anaconda3\\lib\\site-packages (from torch) (2.8.4)\n",
      "Requirement already satisfied: jinja2 in c:\\users\\liwen\\anaconda3\\lib\\site-packages (from torch) (3.1.2)\n",
      "Requirement already satisfied: sympy in c:\\users\\liwen\\anaconda3\\lib\\site-packages (from torch) (1.11.1)\n",
      "Requirement already satisfied: filelock in c:\\users\\liwen\\anaconda3\\lib\\site-packages (from torch) (3.9.0)\n",
      "Requirement already satisfied: typing-extensions in c:\\users\\liwen\\anaconda3\\lib\\site-packages (from torch) (4.4.0)\n",
      "Requirement already satisfied: pillow!=8.3.*,>=5.3.0 in c:\\users\\liwen\\anaconda3\\lib\\site-packages (from torchvision) (9.4.0)\n",
      "Requirement already satisfied: numpy in c:\\users\\liwen\\anaconda3\\lib\\site-packages (from torchvision) (1.23.5)\n",
      "Requirement already satisfied: requests in c:\\users\\liwen\\anaconda3\\lib\\site-packages (from torchvision) (2.28.1)\n",
      "Requirement already satisfied: MarkupSafe>=2.0 in c:\\users\\liwen\\anaconda3\\lib\\site-packages (from jinja2->torch) (2.1.1)\n",
      "Requirement already satisfied: charset-normalizer<3,>=2 in c:\\users\\liwen\\anaconda3\\lib\\site-packages (from requests->torchvision) (2.0.4)\n",
      "Requirement already satisfied: certifi>=2017.4.17 in c:\\users\\liwen\\anaconda3\\lib\\site-packages (from requests->torchvision) (2022.12.7)\n",
      "Requirement already satisfied: urllib3<1.27,>=1.21.1 in c:\\users\\liwen\\anaconda3\\lib\\site-packages (from requests->torchvision) (1.26.14)\n",
      "Requirement already satisfied: idna<4,>=2.5 in c:\\users\\liwen\\anaconda3\\lib\\site-packages (from requests->torchvision) (3.4)\n",
      "Requirement already satisfied: mpmath>=0.19 in c:\\users\\liwen\\anaconda3\\lib\\site-packages (from sympy->torch) (1.2.1)\n"
     ]
    }
   ],
   "source": [
    "!pip3 install torch torchvision torchaudio --index-url https://download.pytorch.org/whl/cu117"
   ]
  },
  {
   "cell_type": "code",
   "execution_count": 3,
   "id": "83824e5a-c960-40c9-a896-ff42fe434d1f",
   "metadata": {},
   "outputs": [],
   "source": [
    "import torch\n",
    "import matplotlib.pyplot as plt"
   ]
  },
  {
   "cell_type": "code",
   "execution_count": 2,
   "id": "b8cec7c4-b5f5-4db0-b429-cae76556e4e2",
   "metadata": {},
   "outputs": [
    {
     "name": "stdout",
     "output_type": "stream",
     "text": [
      "2.0.1+cu117\n"
     ]
    }
   ],
   "source": [
    "print(torch.__version__)"
   ]
  },
  {
   "cell_type": "code",
   "execution_count": 4,
   "id": "287947eb-0025-40f6-bb95-d9be7fea9fdd",
   "metadata": {},
   "outputs": [
    {
     "name": "stdout",
     "output_type": "stream",
     "text": [
      "True\n"
     ]
    }
   ],
   "source": [
    "print(torch.cuda.is_available())"
   ]
  },
  {
   "cell_type": "code",
   "execution_count": 1,
   "id": "a010c7da-3799-4a95-8814-38c0017d5b96",
   "metadata": {},
   "outputs": [],
   "source": [
    "#Lesson 1"
   ]
  },
  {
   "cell_type": "code",
   "execution_count": 11,
   "id": "834ca092-0470-43d4-a6d4-01c6693c2b5b",
   "metadata": {},
   "outputs": [
    {
     "name": "stdout",
     "output_type": "stream",
     "text": [
      "tensor([10.])\n"
     ]
    }
   ],
   "source": [
    "torch.manual_seed(10)\n",
    "flag = True\n",
    "if flag:\n",
    "    w = torch.tensor([1.],requires_grad = True)\n",
    "    x = torch.tensor([2.],requires_grad = True)\n",
    "    #y = (w+x)*(w+1)\n",
    "    a = torch.add(w,x)\n",
    "    b = torch.add(w,1)\n",
    "    y = torch.mul(a,b)\n",
    "    \n",
    "    y.backward(retain_graph = True)\n",
    "    y.backward()\n",
    "    print(w.grad)\n",
    "    "
   ]
  },
  {
   "cell_type": "code",
   "execution_count": 13,
   "id": "c0dd0692-fd96-4d6f-a234-0cdca23cd432",
   "metadata": {},
   "outputs": [
    {
     "name": "stdout",
     "output_type": "stream",
     "text": [
      "tensor([7.])\n"
     ]
    }
   ],
   "source": [
    "flag = True\n",
    "\n",
    "w = torch.tensor([1.],requires_grad = True)#w=1\n",
    "x = torch.tensor([2.],requires_grad = True)#x=2\n",
    "\n",
    "a = torch.add(w,x)\n",
    "b = torch.add(w,1)\n",
    "#y = torch.mul(a,b)\n",
    "\n",
    "y0 = torch.mul(a,b)\n",
    "y1 = torch.add(a,b)\n",
    "\n",
    "loss = torch.cat([y0,y1],dim=0)#y0->5,y1->2\n",
    "grad_tensors = torch.tensor([1.,1.])#5*1+2*1 = 7\n",
    "loss.backward(gradient = grad_tensors)\n",
    "print(w.grad)\n"
   ]
  },
  {
   "cell_type": "code",
   "execution_count": 15,
   "id": "c142dca2-1845-43d7-835b-cb9b7855f778",
   "metadata": {},
   "outputs": [
    {
     "name": "stdout",
     "output_type": "stream",
     "text": [
      "(tensor([6.], grad_fn=<MulBackward0>),)\n",
      "(tensor([2.]),)\n"
     ]
    }
   ],
   "source": [
    "x = torch.tensor([3.],requires_grad = True)\n",
    "y = torch.pow(x,2) #y = x^2\n",
    "grad_1 = torch.autograd.grad(y,x,create_graph = True) #grad_1 = dy/dx = 2x = 2*3 = 6\n",
    "print(grad_1)\n",
    "grad_2 = torch.autograd.grad(grad_1[0],x)\n",
    "print(grad_2)"
   ]
  },
  {
   "cell_type": "code",
   "execution_count": 21,
   "id": "a9a699e1-5431-4999-b93c-39584ee726ce",
   "metadata": {},
   "outputs": [
    {
     "name": "stdout",
     "output_type": "stream",
     "text": [
      "tensor([5.])\n",
      "tensor([5.])\n",
      "tensor([5.])\n",
      "tensor([5.])\n"
     ]
    }
   ],
   "source": [
    "x = torch.tensor([2.],requires_grad = True)\n",
    "w = torch.tensor([1.],requires_grad = True)\n",
    "\n",
    "for i in range(4):\n",
    "    a = torch.add(w,x)\n",
    "    b = torch.add(w,1)\n",
    "    y = torch.mul(a,b)\n",
    "    \n",
    "    y.backward()\n",
    "    print(w.grad)\n",
    "    \n",
    "    w.grad.zero_()"
   ]
  },
  {
   "cell_type": "code",
   "execution_count": 22,
   "id": "03667145-4f15-40a4-964b-b17c9dd7aa5e",
   "metadata": {},
   "outputs": [
    {
     "name": "stdout",
     "output_type": "stream",
     "text": [
      "1814655904208 tensor([2.])\n"
     ]
    }
   ],
   "source": [
    "a = torch.ones((1,))\n",
    "a = a + torch.ones((1,))#different id\n",
    "a += torch.ones((1,)) #in-place \n",
    "print(id(a),a)"
   ]
  },
  {
   "cell_type": "code",
   "execution_count": 29,
   "id": "6bdaf779-458d-4e34-94ea-d2f620ed9b69",
   "metadata": {},
   "outputs": [],
   "source": [
    "#create data\n",
    "sample_nums = 100\n",
    "mean_value = 1.7\n",
    "bias = 1\n",
    "n_data = torch.ones(sample_nums,2)\n",
    "x0 = torch.normal(mean_value*n_data,1) + bias\n",
    "y0 = torch.zeros(sample_nums)\n",
    "x1 = torch.normal(-mean_value*n_data,1) + bias\n",
    "y1 = torch.ones(sample_nums)\n",
    "train_x = torch.cat((x0,x1),0)\n",
    "train_y = torch.cat((y0,y1),0)\n"
   ]
  },
  {
   "cell_type": "code",
   "execution_count": 3,
   "id": "03d39f3b-a043-43bc-a483-3568583228c9",
   "metadata": {},
   "outputs": [],
   "source": []
  },
  {
   "cell_type": "code",
   "execution_count": 30,
   "id": "33e7ecb5-88d5-45ee-ad64-ca1b678aec1b",
   "metadata": {},
   "outputs": [
    {
     "ename": "SyntaxError",
     "evalue": "incomplete input (3680323351.py, line 26)",
     "output_type": "error",
     "traceback": [
      "\u001b[1;36m  Cell \u001b[1;32mIn[30], line 26\u001b[1;36m\u001b[0m\n\u001b[1;33m    for iteration in range(1000):\u001b[0m\n\u001b[1;37m                                 ^\u001b[0m\n\u001b[1;31mSyntaxError\u001b[0m\u001b[1;31m:\u001b[0m incomplete input\n"
     ]
    }
   ],
   "source": [
    "#choose model\n",
    "class LR(nn.Module):\n",
    "    def __init__(self):\n",
    "        super(LR,self).__init__()\n",
    "        self.features = nn.Linear(2,1)\n",
    "        self.sigmoid = nn.Sigmoid()\n",
    "        \n",
    "    def forward(self,x):\n",
    "        x = self.features(x)\n",
    "        x = self.sigmoid(x)\n",
    "        return x\n",
    "    \n",
    "lr_net = LR()\n",
    "\n",
    "\n",
    "##choose loss function\n",
    "\n",
    "loss_fn = nn.BCELoss()\n",
    "\n",
    "###select optimizer\n",
    "lr = 0.01\n",
    "optimizer = torch.optim.SGD(lr_net.parameters(),lr = lr, momentum = 0.9)\n",
    "\n",
    "\n",
    "### Train the model\n",
    "for iteration in range(1000):\n",
    "    y_pred = lr_net(train_x)\n",
    "    loss = loss_fn(y_pred.squeeze(),train_y)\n",
    "    loss.backward()\n",
    "    optimizer.step()\n",
    "    \n",
    "    if iteration % 20 == 0:\n",
    "        mask = y_pred.ge(0.5).float().squeeze()#以0.5为阈值进行分类\n",
    "        correct = (mask == train_y).sum()#计算正确预测的样本个数\n",
    "        acc = correct.item()/train_y.size(0)#计算分类准确率\n",
    "        \n",
    "        plt.scatter(x0.data.numpy()[:,0],x0.data.numpy()[:,1],c='r',label = 'class 0')\n",
    "        plt.scatter(x1.data.numpy()[:,0],x1.data.numpy()[:,1],c='b',label = 'class 1')\n",
    "        \n",
    "        w0,w1 = lr.net.features.weight[0]\n",
    "        "
   ]
  },
  {
   "cell_type": "code",
   "execution_count": 12,
   "id": "1da9c356-59af-443c-9ada-da0c87caff97",
   "metadata": {},
   "outputs": [
    {
     "data": {
      "text/plain": [
       "<torch._C.Generator at 0x2c4e0206250>"
      ]
     },
     "execution_count": 12,
     "metadata": {},
     "output_type": "execute_result"
    }
   ],
   "source": [
    "torch.manual_seed(10)"
   ]
  },
  {
   "cell_type": "code",
   "execution_count": 18,
   "id": "3d5ea454",
   "metadata": {},
   "outputs": [
    {
     "name": "stdout",
     "output_type": "stream",
     "text": [
      "w:tensor([10.0638], requires_grad=True)\n",
      "b:tensor([4.3294], requires_grad=True)\n",
      "loss=0.6799\n"
     ]
    }
   ],
   "source": [
    "lr = 0.1\n",
    "x = torch.rand(20,1)*10\n",
    "#print(x)\n",
    "y = 2*x + (5+torch.randn(20,1))\n",
    "\n",
    "w = torch.randn((1),requires_grad = True)\n",
    "b = torch.zeros((1),requires_grad = True)\n",
    "\n",
    "for iteration in range(100):\n",
    "    wx = torch.mul(w,x)\n",
    "    y_pred = torch.add(wx,b)\n",
    "    loss = (0.5*(y-y_pred)**2).mean()\n",
    "    \n",
    "    loss.backward()\n",
    "\n",
    "    b.data.sub_(lr*b.grad)\n",
    "   \n",
    "    w.data.sub_(lr*w.grad)\n",
    "    \n",
    "    \n",
    "    if loss.data.numpy()<1:\n",
    "        print('w:{}'.format(w))\n",
    "        print('b:{}'.format(b))\n",
    "        print('loss=%.4f'%loss.data.numpy())\n",
    "        #plt.scatter(x.data.numpy(),y.data.numpy())\n",
    "        #plt.plot(x.data.numpy(),y_pred.data.numpy(),'r-',lw=5)\n",
    "        \n",
    "        break\n",
    "\n",
    "\n"
   ]
  },
  {
   "cell_type": "code",
   "execution_count": 17,
   "id": "808012fc",
   "metadata": {},
   "outputs": [],
   "source": [
    "    if iteration %20 == 0:\n",
    "        plt.scatter(x.data.numpy(),y.data.numpy())\n",
    "        plt.plot(x.data.numpy(),y_pred.data.numpy(),'r-',lw=5)"
   ]
  },
  {
   "cell_type": "code",
   "execution_count": null,
   "id": "c69553e2",
   "metadata": {},
   "outputs": [],
   "source": []
  }
 ],
 "metadata": {
  "kernelspec": {
   "display_name": "Python 3 (ipykernel)",
   "language": "python",
   "name": "python3"
  },
  "language_info": {
   "codemirror_mode": {
    "name": "ipython",
    "version": 3
   },
   "file_extension": ".py",
   "mimetype": "text/x-python",
   "name": "python",
   "nbconvert_exporter": "python",
   "pygments_lexer": "ipython3",
   "version": "3.10.9"
  }
 },
 "nbformat": 4,
 "nbformat_minor": 5
}
